{
 "cells": [
  {
   "cell_type": "markdown",
   "source": [
    "**Python Project Idea** – The objective of this project is to implement the hangman game using Python.\n",
    "This project doesn’t require any external modules rather just needs random and time modules of Python.\n",
    "Python functions and loops are enough to develop a hangman game"
   ],
   "metadata": {}
  },
  {
   "cell_type": "code",
   "execution_count": 4,
   "source": [
    "import random\r\n",
    "#choose a random word from txt file\r\n",
    "def random_word():\r\n",
    "    with open(\"randomwords.txt\",\"r\") as file:\r\n",
    "        all_text = file.read()\r\n",
    "        words = list(map(str,all_text.split()))\r\n",
    "        the_word = random.choice(words)\r\n",
    "        return [letter for letter in the_word]\r\n",
    "    \r\n",
    "word = random_word()"
   ],
   "outputs": [],
   "metadata": {}
  },
  {
   "cell_type": "code",
   "execution_count": 2,
   "source": [
    "#create game board\r\n",
    "def game_board(word):\r\n",
    "    board = len(word)*\" _ \"\r\n",
    "    return board\r\n",
    "\r\n",
    "game_board(['F', 'R', 'A', 'M', 'A', 'B', 'L', 'E'])"
   ],
   "outputs": [
    {
     "output_type": "execute_result",
     "data": {
      "text/plain": [
       "' _  _  _  _  _  _  _  _ '"
      ]
     },
     "metadata": {},
     "execution_count": 2
    }
   ],
   "metadata": {}
  },
  {
   "cell_type": "code",
   "execution_count": 3,
   "source": [
    "def user_input():\r\n",
    "    while True:\r\n",
    "        try:\r\n",
    "            user_guess = input(\"Give me a letter: \")\r\n",
    "            if user_guess.isalpha() and len(user_guess) == 1:\r\n",
    "                break\r\n",
    "                return user_guess\r\n",
    "            else:\r\n",
    "                print(\"Invalid input.\")\r\n",
    "        except:\r\n",
    "            print(\"Invalid input.\")\r\n",
    "        \r\n",
    "user_input()"
   ],
   "outputs": [],
   "metadata": {
    "tags": []
   }
  },
  {
   "cell_type": "code",
   "execution_count": 46,
   "source": [
    "#check input against word\r\n",
    "def check(word,user_guess):\r\n",
    "    if user_guess.upper() in the_word:\r\n",
    "        for i in range(len(the_word)):\r\n",
    "            for j in range(len(board)):\r\n",
    "                board[i] = user_guess.upper()\r\n",
    "                print(board)\r\n",
    "    else:\r\n",
    "        user_input()"
   ],
   "outputs": [],
   "metadata": {
    "tags": []
   }
  },
  {
   "cell_type": "code",
   "execution_count": 47,
   "source": [
    "check(user_input())"
   ],
   "outputs": [
    {
     "output_type": "stream",
     "name": "stdout",
     "text": [
      "Give me a letter:  a\n"
     ]
    },
    {
     "output_type": "error",
     "ename": "AttributeError",
     "evalue": "'NoneType' object has no attribute 'upper'",
     "traceback": [
      "\u001b[1;31m---------------------------------------------------------------------------\u001b[0m",
      "\u001b[1;31mAttributeError\u001b[0m                            Traceback (most recent call last)",
      "\u001b[1;32m<ipython-input-47-ddcf4092b860>\u001b[0m in \u001b[0;36m<module>\u001b[1;34m\u001b[0m\n\u001b[1;32m----> 1\u001b[1;33m \u001b[0mcheck\u001b[0m\u001b[1;33m(\u001b[0m\u001b[0muser_input\u001b[0m\u001b[1;33m(\u001b[0m\u001b[1;33m)\u001b[0m\u001b[1;33m)\u001b[0m\u001b[1;33m\u001b[0m\u001b[1;33m\u001b[0m\u001b[0m\n\u001b[0m",
      "\u001b[1;32m<ipython-input-46-fa8ec311e72f>\u001b[0m in \u001b[0;36mcheck\u001b[1;34m(user_guess)\u001b[0m\n\u001b[0;32m      1\u001b[0m \u001b[1;31m#check input against word\u001b[0m\u001b[1;33m\u001b[0m\u001b[1;33m\u001b[0m\u001b[1;33m\u001b[0m\u001b[0m\n\u001b[0;32m      2\u001b[0m \u001b[1;32mdef\u001b[0m \u001b[0mcheck\u001b[0m\u001b[1;33m(\u001b[0m\u001b[0muser_guess\u001b[0m\u001b[1;33m)\u001b[0m\u001b[1;33m:\u001b[0m\u001b[1;33m\u001b[0m\u001b[1;33m\u001b[0m\u001b[0m\n\u001b[1;32m----> 3\u001b[1;33m     \u001b[1;32mif\u001b[0m \u001b[0muser_guess\u001b[0m\u001b[1;33m.\u001b[0m\u001b[0mupper\u001b[0m\u001b[1;33m(\u001b[0m\u001b[1;33m)\u001b[0m \u001b[1;32min\u001b[0m \u001b[0mthe_word\u001b[0m\u001b[1;33m:\u001b[0m\u001b[1;33m\u001b[0m\u001b[1;33m\u001b[0m\u001b[0m\n\u001b[0m\u001b[0;32m      4\u001b[0m         \u001b[1;32mfor\u001b[0m \u001b[0mi\u001b[0m \u001b[1;32min\u001b[0m \u001b[0mrange\u001b[0m\u001b[1;33m(\u001b[0m\u001b[0mlen\u001b[0m\u001b[1;33m(\u001b[0m\u001b[0mthe_word\u001b[0m\u001b[1;33m)\u001b[0m\u001b[1;33m)\u001b[0m\u001b[1;33m:\u001b[0m\u001b[1;33m\u001b[0m\u001b[1;33m\u001b[0m\u001b[0m\n\u001b[0;32m      5\u001b[0m             \u001b[1;32mfor\u001b[0m \u001b[0mj\u001b[0m \u001b[1;32min\u001b[0m \u001b[0mrange\u001b[0m\u001b[1;33m(\u001b[0m\u001b[0mlen\u001b[0m\u001b[1;33m(\u001b[0m\u001b[0mboard\u001b[0m\u001b[1;33m)\u001b[0m\u001b[1;33m)\u001b[0m\u001b[1;33m:\u001b[0m\u001b[1;33m\u001b[0m\u001b[1;33m\u001b[0m\u001b[0m\n",
      "\u001b[1;31mAttributeError\u001b[0m: 'NoneType' object has no attribute 'upper'"
     ]
    }
   ],
   "metadata": {}
  },
  {
   "cell_type": "code",
   "execution_count": null,
   "source": [],
   "outputs": [],
   "metadata": {}
  }
 ],
 "metadata": {
  "kernelspec": {
   "name": "python3",
   "display_name": "Python 3.7.11 64-bit ('datascience': conda)"
  },
  "language_info": {
   "codemirror_mode": {
    "name": "ipython",
    "version": 3
   },
   "file_extension": ".py",
   "mimetype": "text/x-python",
   "name": "python",
   "nbconvert_exporter": "python",
   "pygments_lexer": "ipython3",
   "version": "3.7.11"
  },
  "interpreter": {
   "hash": "6ddf9952c8f6b2f5e6ab72f4a08e3d99ef89d1478036460443c7331c05edab30"
  }
 },
 "nbformat": 4,
 "nbformat_minor": 5
}
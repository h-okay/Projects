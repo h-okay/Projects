{
 "cells": [
  {
   "cell_type": "code",
   "execution_count": 24,
   "source": [
    "import random\r\n",
    "#choose a random word from txt file\r\n",
    "def random_word():\r\n",
    "    with open(\"randomwords.txt\",\"r\") as file:\r\n",
    "        all_text = file.read()\r\n",
    "        words = list(map(str,all_text.split()))\r\n",
    "        the_word = random.choice(words)\r\n",
    "        return [letter for letter in the_word]"
   ],
   "outputs": [],
   "metadata": {}
  },
  {
   "cell_type": "code",
   "execution_count": 25,
   "source": [
    "#get user input\r\n",
    "def user_input():\r\n",
    "    while True:\r\n",
    "        try:\r\n",
    "            user_guess = input(\"Give me a letter: \")\r\n",
    "            if user_guess.isalpha() and len(user_guess) == 1:\r\n",
    "                return user_guess\r\n",
    "                break                \r\n",
    "            else:\r\n",
    "                print(\"Invalid input.\")\r\n",
    "        except:\r\n",
    "            print(\"Invalid input.\")\r\n",
    "        \r\n",
    "user_input()"
   ],
   "outputs": [
    {
     "output_type": "execute_result",
     "data": {
      "text/plain": [
       "'a'"
      ]
     },
     "metadata": {},
     "execution_count": 25
    }
   ],
   "metadata": {
    "tags": []
   }
  },
  {
   "cell_type": "code",
   "execution_count": 26,
   "source": [
    "def board(arr):\r\n",
    "    return (\" __ \"*len(arr)).split()"
   ],
   "outputs": [],
   "metadata": {}
  },
  {
   "cell_type": "code",
   "execution_count": 29,
   "source": [
    "word = random_word()\r\n",
    "game = board(word)\r\n",
    "life = 10"
   ],
   "outputs": [],
   "metadata": {}
  },
  {
   "cell_type": "code",
   "execution_count": 30,
   "source": [
    "while (\"__\" in game) and (life != 0):\r\n",
    "        guess = user_input()\r\n",
    "        indices = []\r\n",
    "        for i in range(len(word)):\r\n",
    "            if word[i] == guess:\r\n",
    "                indices.append(i)\r\n",
    "        if len(indices) == 0:\r\n",
    "            life -=1\r\n",
    "            print(f\"Remaning life: {life}\")   \r\n",
    "            \r\n",
    "        for val in indices:\r\n",
    "            game[val] = guess\r\n",
    "        print(*game)"
   ],
   "outputs": [
    {
     "output_type": "stream",
     "name": "stdout",
     "text": [
      "Invalid input.\n",
      "Remaning life: 9\n",
      "__ __ __ __ __ __ __ __\n",
      "Remaning life: 8\n",
      "__ __ __ __ __ __ __ __\n",
      "Remaning life: 7\n",
      "__ __ __ __ __ __ __ __\n",
      "Remaning life: 6\n",
      "__ __ __ __ __ __ __ __\n",
      "Remaning life: 5\n",
      "__ __ __ __ __ __ __ __\n",
      "__ E __ __ __ __ E __\n",
      "R E __ __ __ __ E __\n",
      "Remaning life: 4\n",
      "R E __ __ __ __ E __\n",
      "Remaning life: 3\n",
      "R E __ __ __ __ E __\n",
      "R E __ U __ __ E __\n",
      "Remaning life: 2\n",
      "R E __ U __ __ E __\n",
      "Remaning life: 1\n",
      "R E __ U __ __ E __\n",
      "R E P U __ __ E __\n",
      "Remaning life: 0\n",
      "R E P U __ __ E __\n"
     ]
    }
   ],
   "metadata": {}
  },
  {
   "cell_type": "code",
   "execution_count": null,
   "source": [],
   "outputs": [],
   "metadata": {}
  }
 ],
 "metadata": {
  "kernelspec": {
   "name": "python3",
   "display_name": "Python 3.7.11 64-bit ('datascience': conda)"
  },
  "language_info": {
   "codemirror_mode": {
    "name": "ipython",
    "version": 3
   },
   "file_extension": ".py",
   "mimetype": "text/x-python",
   "name": "python",
   "nbconvert_exporter": "python",
   "pygments_lexer": "ipython3",
   "version": "3.7.11"
  },
  "interpreter": {
   "hash": "6ddf9952c8f6b2f5e6ab72f4a08e3d99ef89d1478036460443c7331c05edab30"
  }
 },
 "nbformat": 4,
 "nbformat_minor": 5
}
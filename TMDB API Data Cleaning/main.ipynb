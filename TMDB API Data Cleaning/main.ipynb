{
 "cells": [
  {
   "cell_type": "markdown",
   "metadata": {},
   "source": [
    "# Gathering, cleaning, storing data from TMDB API"
   ]
  },
  {
   "cell_type": "markdown",
   "metadata": {},
   "source": [
    "## Importing necessary libraries"
   ]
  },
  {
   "cell_type": "code",
   "execution_count": 11,
   "metadata": {},
   "outputs": [],
   "source": [
    "import ast\n",
    "\n",
    "import pandas as pd\n",
    "import requests\n",
    "\n",
    "from constants import api_key"
   ]
  },
  {
   "cell_type": "markdown",
   "metadata": {},
   "source": [
    "## Getting the data"
   ]
  },
  {
   "cell_type": "markdown",
   "metadata": {},
   "source": [
    "### Getting IDs from first 100 pages of **Top Rated Movies** page."
   ]
  },
  {
   "cell_type": "code",
   "execution_count": 12,
   "metadata": {},
   "outputs": [],
   "source": [
    "def get_toprated(key, page):\n",
    "    query = f'https://api.themoviedb.org/3/movie/top_rated?api_key={key}&language=en-US&page={page}'\n",
    "    response = requests.get(query)\n",
    "    if response.status_code == 200:\n",
    "        return response.json()\n",
    "    else:\n",
    "        return 'Error'"
   ]
  },
  {
   "cell_type": "code",
   "execution_count": 13,
   "metadata": {},
   "outputs": [],
   "source": [
    "ids = []\n",
    "for i in range(1, 101):\n",
    "    toprated = get_toprated(api_key, i)\n",
    "    for result in toprated['results']:\n",
    "        try:\n",
    "            id_ = result['id']\n",
    "            ids.append(id_)\n",
    "        except:\n",
    "            continue"
   ]
  },
  {
   "cell_type": "code",
   "execution_count": 14,
   "metadata": {},
   "outputs": [
    {
     "data": {
      "text/plain": [
       "2000"
      ]
     },
     "execution_count": 14,
     "metadata": {},
     "output_type": "execute_result"
    }
   ],
   "source": [
    "len(ids)  # 2000 unique films"
   ]
  },
  {
   "cell_type": "markdown",
   "metadata": {},
   "source": [
    "### Getting **details** of highest rated 2000 movies"
   ]
  },
  {
   "cell_type": "code",
   "execution_count": 15,
   "metadata": {},
   "outputs": [],
   "source": [
    "def get_data(key, movie_id):\n",
    "    query = f'https://api.themoviedb.org/3/movie/{movie_id}?api_key={key}'\n",
    "    response = requests.get(query)\n",
    "    if response.status_code == 200:\n",
    "        return response.json()\n",
    "    else:\n",
    "        return 'Error'"
   ]
  },
  {
   "cell_type": "code",
   "execution_count": 16,
   "metadata": {},
   "outputs": [
    {
     "data": {
      "text/html": [
       "<div>\n",
       "<style scoped>\n",
       "    .dataframe tbody tr th:only-of-type {\n",
       "        vertical-align: middle;\n",
       "    }\n",
       "\n",
       "    .dataframe tbody tr th {\n",
       "        vertical-align: top;\n",
       "    }\n",
       "\n",
       "    .dataframe thead th {\n",
       "        text-align: right;\n",
       "    }\n",
       "</style>\n",
       "<table border=\"1\" class=\"dataframe\">\n",
       "  <thead>\n",
       "    <tr style=\"text-align: right;\">\n",
       "      <th></th>\n",
       "      <th>adult</th>\n",
       "      <th>backdrop_path</th>\n",
       "      <th>belongs_to_collection</th>\n",
       "      <th>budget</th>\n",
       "      <th>genres</th>\n",
       "      <th>homepage</th>\n",
       "      <th>id</th>\n",
       "      <th>imdb_id</th>\n",
       "      <th>original_language</th>\n",
       "      <th>original_title</th>\n",
       "      <th>...</th>\n",
       "      <th>release_date</th>\n",
       "      <th>revenue</th>\n",
       "      <th>runtime</th>\n",
       "      <th>spoken_languages</th>\n",
       "      <th>status</th>\n",
       "      <th>tagline</th>\n",
       "      <th>title</th>\n",
       "      <th>video</th>\n",
       "      <th>vote_average</th>\n",
       "      <th>vote_count</th>\n",
       "    </tr>\n",
       "  </thead>\n",
       "  <tbody>\n",
       "    <tr>\n",
       "      <th>0</th>\n",
       "      <td>False</td>\n",
       "      <td>/5hNcsnMkwU2LknLoru73c76el3z.jpg</td>\n",
       "      <td>None</td>\n",
       "      <td>13200000</td>\n",
       "      <td>[{'id': 35, 'name': 'Comedy'}, {'id': 18, 'nam...</td>\n",
       "      <td></td>\n",
       "      <td>19404</td>\n",
       "      <td>tt0112870</td>\n",
       "      <td>hi</td>\n",
       "      <td>दिलवाले दुल्हनिया ले जायेंगे</td>\n",
       "      <td>...</td>\n",
       "      <td>1995-10-20</td>\n",
       "      <td>100000000</td>\n",
       "      <td>190</td>\n",
       "      <td>[{'english_name': 'Hindi', 'iso_639_1': 'hi', ...</td>\n",
       "      <td>Released</td>\n",
       "      <td>Come Fall In love, All Over Again..</td>\n",
       "      <td>Dilwale Dulhania Le Jayenge</td>\n",
       "      <td>False</td>\n",
       "      <td>8.8</td>\n",
       "      <td>3181</td>\n",
       "    </tr>\n",
       "  </tbody>\n",
       "</table>\n",
       "<p>1 rows × 25 columns</p>\n",
       "</div>"
      ],
      "text/plain": [
       "   adult                     backdrop_path belongs_to_collection    budget  \\\n",
       "0  False  /5hNcsnMkwU2LknLoru73c76el3z.jpg                  None  13200000   \n",
       "\n",
       "                                              genres homepage     id  \\\n",
       "0  [{'id': 35, 'name': 'Comedy'}, {'id': 18, 'nam...           19404   \n",
       "\n",
       "     imdb_id original_language                original_title  ...  \\\n",
       "0  tt0112870                hi  दिलवाले दुल्हनिया ले जायेंगे  ...   \n",
       "\n",
       "  release_date    revenue runtime  \\\n",
       "0   1995-10-20  100000000     190   \n",
       "\n",
       "                                    spoken_languages    status  \\\n",
       "0  [{'english_name': 'Hindi', 'iso_639_1': 'hi', ...  Released   \n",
       "\n",
       "                               tagline                        title  video  \\\n",
       "0  Come Fall In love, All Over Again..  Dilwale Dulhania Le Jayenge  False   \n",
       "\n",
       "  vote_average vote_count  \n",
       "0          8.8       3181  \n",
       "\n",
       "[1 rows x 25 columns]"
      ]
     },
     "execution_count": 16,
     "metadata": {},
     "output_type": "execute_result"
    }
   ],
   "source": [
    "# Creating a dataframe with the first element on ids list. We will append the data we get to this dataframe\n",
    "details = get_data(api_key, ids[0])\n",
    "df = pd.DataFrame.from_dict(details, orient='index').transpose()\n",
    "df.head()"
   ]
  },
  {
   "cell_type": "code",
   "execution_count": 17,
   "metadata": {},
   "outputs": [],
   "source": [
    "# Getting movie details from our id list\n",
    "for i in ids[1:]:\n",
    "    try:\n",
    "        result = get_data(api_key, i)\n",
    "        movie = pd.DataFrame.from_dict(result, orient='index').transpose()\n",
    "        df = df.append(movie, ignore_index=True)\n",
    "    except:\n",
    "        continue"
   ]
  },
  {
   "cell_type": "code",
   "execution_count": 18,
   "metadata": {},
   "outputs": [
    {
     "data": {
      "text/plain": [
       "True"
      ]
     },
     "execution_count": 18,
     "metadata": {},
     "output_type": "execute_result"
    }
   ],
   "source": [
    "df.shape[0] == len(ids)  # We got details of 2000 unique movies"
   ]
  },
  {
   "cell_type": "markdown",
   "metadata": {},
   "source": [
    "### Backup the data we got so far"
   ]
  },
  {
   "cell_type": "code",
   "execution_count": 19,
   "metadata": {},
   "outputs": [],
   "source": [
    "df.to_csv('dirty2000.csv')"
   ]
  },
  {
   "cell_type": "markdown",
   "metadata": {},
   "source": [
    "## Lets start working on cleaning"
   ]
  },
  {
   "cell_type": "code",
   "execution_count": 20,
   "metadata": {},
   "outputs": [],
   "source": [
    "movies = pd.read_csv('top2000.csv')"
   ]
  },
  {
   "cell_type": "code",
   "execution_count": 21,
   "metadata": {},
   "outputs": [
    {
     "name": "stdout",
     "output_type": "stream",
     "text": [
      "<class 'pandas.core.frame.DataFrame'>\n",
      "RangeIndex: 2000 entries, 0 to 1999\n",
      "Data columns (total 26 columns):\n",
      " #   Column                 Non-Null Count  Dtype  \n",
      "---  ------                 --------------  -----  \n",
      " 0   Unnamed: 0             2000 non-null   int64  \n",
      " 1   adult                  2000 non-null   bool   \n",
      " 2   backdrop_path          1998 non-null   object \n",
      " 3   belongs_to_collection  400 non-null    object \n",
      " 4   budget                 2000 non-null   int64  \n",
      " 5   genres                 2000 non-null   object \n",
      " 6   homepage               782 non-null    object \n",
      " 7   id                     2000 non-null   int64  \n",
      " 8   imdb_id                2000 non-null   object \n",
      " 9   original_language      2000 non-null   object \n",
      " 10  original_title         2000 non-null   object \n",
      " 11  overview               2000 non-null   object \n",
      " 12  popularity             2000 non-null   float64\n",
      " 13  poster_path            2000 non-null   object \n",
      " 14  production_companies   2000 non-null   object \n",
      " 15  production_countries   2000 non-null   object \n",
      " 16  release_date           2000 non-null   object \n",
      " 17  revenue                2000 non-null   int64  \n",
      " 18  runtime                2000 non-null   int64  \n",
      " 19  spoken_languages       2000 non-null   object \n",
      " 20  status                 2000 non-null   object \n",
      " 21  tagline                1539 non-null   object \n",
      " 22  title                  2000 non-null   object \n",
      " 23  video                  2000 non-null   bool   \n",
      " 24  vote_average           2000 non-null   float64\n",
      " 25  vote_count             2000 non-null   int64  \n",
      "dtypes: bool(2), float64(2), int64(6), object(16)\n",
      "memory usage: 379.0+ KB\n"
     ]
    }
   ],
   "source": [
    "movies.info()"
   ]
  },
  {
   "cell_type": "code",
   "execution_count": 22,
   "metadata": {},
   "outputs": [],
   "source": [
    "# Drop the columns we have no use for\n",
    "movies = movies[movies['adult'] == False]\n",
    "movies = movies[\n",
    "    ['id', 'title', 'genres', 'belongs_to_collection', 'vote_average',\n",
    "     'vote_count', 'budget', 'revenue', 'popularity', 'production_companies',\n",
    "     'production_countries', 'release_date', 'runtime', 'spoken_languages']]\n",
    "movies = movies.set_index('id').sort_index()"
   ]
  },
  {
   "cell_type": "markdown",
   "metadata": {},
   "source": [
    "## Unpacking values in certain categories"
   ]
  },
  {
   "cell_type": "code",
   "execution_count": 23,
   "metadata": {},
   "outputs": [],
   "source": [
    "# Some columns have their own dictionaries inside them. Let's unpack them to a readable format\n",
    "def unpacker(text):\n",
    "    arr = ast.literal_eval(text)\n",
    "    unpack_str = []\n",
    "    if type(arr) == list:\n",
    "        for j in range(len(arr)):\n",
    "            unpack_str.append(arr[j]['name'])\n",
    "    else:\n",
    "        unpack_str.append(arr['name'])\n",
    "    return ', '.join(unpack_str)"
   ]
  },
  {
   "cell_type": "code",
   "execution_count": 24,
   "metadata": {},
   "outputs": [],
   "source": [
    "# Fill null values on \"belongs_to_collection\" column. Because they aren't really null values. They just don't belong to a collection.\n",
    "fill = \"[{'name':'No'}]\"\n",
    "movies.belongs_to_collection = movies.belongs_to_collection.fillna(fill)\n",
    "\n",
    "# Perform unpacking\n",
    "movies.belongs_to_collection = movies.belongs_to_collection.map(unpacker)\n",
    "movies.production_companies = movies.production_companies.map(unpacker)\n",
    "movies.production_countries = movies.production_countries.map(unpacker)\n",
    "movies.spoken_languages = movies.spoken_languages.map(unpacker)\n",
    "movies.genres = movies.genres.map(unpacker)\n",
    "\n",
    "# Set \"date\" column as datetime object for functionality\n",
    "movies.release_date = movies.release_date.astype('datetime64[ns]')"
   ]
  },
  {
   "cell_type": "code",
   "execution_count": 25,
   "metadata": {},
   "outputs": [
    {
     "data": {
      "text/html": [
       "<div>\n",
       "<style scoped>\n",
       "    .dataframe tbody tr th:only-of-type {\n",
       "        vertical-align: middle;\n",
       "    }\n",
       "\n",
       "    .dataframe tbody tr th {\n",
       "        vertical-align: top;\n",
       "    }\n",
       "\n",
       "    .dataframe thead th {\n",
       "        text-align: right;\n",
       "    }\n",
       "</style>\n",
       "<table border=\"1\" class=\"dataframe\">\n",
       "  <thead>\n",
       "    <tr style=\"text-align: right;\">\n",
       "      <th></th>\n",
       "      <th>title</th>\n",
       "      <th>genres</th>\n",
       "      <th>belongs_to_collection</th>\n",
       "      <th>vote_average</th>\n",
       "      <th>vote_count</th>\n",
       "      <th>budget</th>\n",
       "      <th>revenue</th>\n",
       "      <th>popularity</th>\n",
       "      <th>production_companies</th>\n",
       "      <th>production_countries</th>\n",
       "      <th>release_date</th>\n",
       "      <th>runtime</th>\n",
       "      <th>spoken_languages</th>\n",
       "    </tr>\n",
       "    <tr>\n",
       "      <th>id</th>\n",
       "      <th></th>\n",
       "      <th></th>\n",
       "      <th></th>\n",
       "      <th></th>\n",
       "      <th></th>\n",
       "      <th></th>\n",
       "      <th></th>\n",
       "      <th></th>\n",
       "      <th></th>\n",
       "      <th></th>\n",
       "      <th></th>\n",
       "      <th></th>\n",
       "      <th></th>\n",
       "    </tr>\n",
       "  </thead>\n",
       "  <tbody>\n",
       "    <tr>\n",
       "      <th>11</th>\n",
       "      <td>Star Wars</td>\n",
       "      <td>Adventure, Action, Science Fiction</td>\n",
       "      <td>Star Wars Collection</td>\n",
       "      <td>8.2</td>\n",
       "      <td>16077</td>\n",
       "      <td>11000000</td>\n",
       "      <td>775398007</td>\n",
       "      <td>61.158</td>\n",
       "      <td>Lucasfilm Ltd., 20th Century Fox</td>\n",
       "      <td>United States of America</td>\n",
       "      <td>1977-05-25</td>\n",
       "      <td>121</td>\n",
       "      <td>English</td>\n",
       "    </tr>\n",
       "    <tr>\n",
       "      <th>12</th>\n",
       "      <td>Finding Nemo</td>\n",
       "      <td>Animation, Family</td>\n",
       "      <td>Finding Nemo Collection</td>\n",
       "      <td>7.8</td>\n",
       "      <td>15507</td>\n",
       "      <td>94000000</td>\n",
       "      <td>940335536</td>\n",
       "      <td>84.129</td>\n",
       "      <td>Pixar</td>\n",
       "      <td>United States of America</td>\n",
       "      <td>2003-05-30</td>\n",
       "      <td>100</td>\n",
       "      <td>English</td>\n",
       "    </tr>\n",
       "    <tr>\n",
       "      <th>13</th>\n",
       "      <td>Forrest Gump</td>\n",
       "      <td>Comedy, Drama, Romance</td>\n",
       "      <td>No</td>\n",
       "      <td>8.5</td>\n",
       "      <td>21346</td>\n",
       "      <td>55000000</td>\n",
       "      <td>677387716</td>\n",
       "      <td>47.654</td>\n",
       "      <td>Paramount, The Steve Tisch Company</td>\n",
       "      <td>United States of America</td>\n",
       "      <td>1994-07-06</td>\n",
       "      <td>142</td>\n",
       "      <td>English</td>\n",
       "    </tr>\n",
       "    <tr>\n",
       "      <th>14</th>\n",
       "      <td>American Beauty</td>\n",
       "      <td>Drama</td>\n",
       "      <td>No</td>\n",
       "      <td>8.0</td>\n",
       "      <td>9666</td>\n",
       "      <td>15000000</td>\n",
       "      <td>356296601</td>\n",
       "      <td>23.156</td>\n",
       "      <td>Jinks/Cohen Company, DreamWorks Pictures</td>\n",
       "      <td>United States of America</td>\n",
       "      <td>1999-09-15</td>\n",
       "      <td>122</td>\n",
       "      <td>English</td>\n",
       "    </tr>\n",
       "    <tr>\n",
       "      <th>15</th>\n",
       "      <td>Citizen Kane</td>\n",
       "      <td>Mystery, Drama</td>\n",
       "      <td>No</td>\n",
       "      <td>8.0</td>\n",
       "      <td>4073</td>\n",
       "      <td>839727</td>\n",
       "      <td>23218000</td>\n",
       "      <td>17.939</td>\n",
       "      <td>Mercury Productions, RKO Radio Pictures</td>\n",
       "      <td>United States of America</td>\n",
       "      <td>1941-04-17</td>\n",
       "      <td>119</td>\n",
       "      <td>English</td>\n",
       "    </tr>\n",
       "  </tbody>\n",
       "</table>\n",
       "</div>"
      ],
      "text/plain": [
       "              title                              genres  \\\n",
       "id                                                        \n",
       "11        Star Wars  Adventure, Action, Science Fiction   \n",
       "12     Finding Nemo                   Animation, Family   \n",
       "13     Forrest Gump              Comedy, Drama, Romance   \n",
       "14  American Beauty                               Drama   \n",
       "15     Citizen Kane                      Mystery, Drama   \n",
       "\n",
       "      belongs_to_collection  vote_average  vote_count    budget    revenue  \\\n",
       "id                                                                           \n",
       "11     Star Wars Collection           8.2       16077  11000000  775398007   \n",
       "12  Finding Nemo Collection           7.8       15507  94000000  940335536   \n",
       "13                       No           8.5       21346  55000000  677387716   \n",
       "14                       No           8.0        9666  15000000  356296601   \n",
       "15                       No           8.0        4073    839727   23218000   \n",
       "\n",
       "    popularity                      production_companies  \\\n",
       "id                                                         \n",
       "11      61.158          Lucasfilm Ltd., 20th Century Fox   \n",
       "12      84.129                                     Pixar   \n",
       "13      47.654        Paramount, The Steve Tisch Company   \n",
       "14      23.156  Jinks/Cohen Company, DreamWorks Pictures   \n",
       "15      17.939   Mercury Productions, RKO Radio Pictures   \n",
       "\n",
       "        production_countries release_date  runtime spoken_languages  \n",
       "id                                                                   \n",
       "11  United States of America   1977-05-25      121          English  \n",
       "12  United States of America   2003-05-30      100          English  \n",
       "13  United States of America   1994-07-06      142          English  \n",
       "14  United States of America   1999-09-15      122          English  \n",
       "15  United States of America   1941-04-17      119          English  "
      ]
     },
     "execution_count": 25,
     "metadata": {},
     "output_type": "execute_result"
    }
   ],
   "source": [
    "movies.head()"
   ]
  },
  {
   "cell_type": "code",
   "execution_count": 26,
   "metadata": {},
   "outputs": [],
   "source": [
    "movies.to_csv('cleaned2000.csv')"
   ]
  }
 ],
 "metadata": {
  "interpreter": {
   "hash": "6ddf9952c8f6b2f5e6ab72f4a08e3d99ef89d1478036460443c7331c05edab30"
  },
  "kernelspec": {
   "display_name": "Python 3.7.11 64-bit ('datascience': conda)",
   "name": "python3"
  },
  "language_info": {
   "codemirror_mode": {
    "name": "ipython",
    "version": 3
   },
   "file_extension": ".py",
   "mimetype": "text/x-python",
   "name": "python",
   "nbconvert_exporter": "python",
   "pygments_lexer": "ipython3",
   "version": "3.7.11"
  },
  "orig_nbformat": 4
 },
 "nbformat": 4,
 "nbformat_minor": 2
}
